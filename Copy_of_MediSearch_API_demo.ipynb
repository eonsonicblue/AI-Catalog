{
  "nbformat": 4,
  "nbformat_minor": 0,
  "metadata": {
    "colab": {
      "provenance": [],
      "include_colab_link": true
    },
    "kernelspec": {
      "name": "python3",
      "display_name": "Python 3"
    },
    "language_info": {
      "name": "python"
    }
  },
  "cells": [
    {
      "cell_type": "markdown",
      "metadata": {
        "id": "view-in-github",
        "colab_type": "text"
      },
      "source": [
        "<a href=\"https://colab.research.google.com/github/eonsonicblue/AI-Catalog/blob/main/Copy_of_MediSearch_API_demo.ipynb\" target=\"_parent\"><img src=\"https://colab.research.google.com/assets/colab-badge.svg\" alt=\"Open In Colab\"/></a>"
      ]
    },
    {
      "cell_type": "code",
      "execution_count": null,
      "metadata": {
        "id": "j0etnxG67Eew",
        "colab": {
          "base_uri": "https://localhost:8080/"
        },
        "outputId": "ed7837f0-f723-45d8-9498-1be53d077c5d"
      },
      "outputs": [
        {
          "output_type": "stream",
          "name": "stdout",
          "text": [
            "Requirement already satisfied: medisearch_client in /usr/local/lib/python3.10/dist-packages (0.2.0)\n",
            "Requirement already satisfied: websocket-client in /usr/local/lib/python3.10/dist-packages (from medisearch_client) (1.6.2)\n",
            "Requirement already satisfied: pyasn1 in /usr/local/lib/python3.10/dist-packages (from medisearch_client) (0.5.0)\n",
            "Requirement already satisfied: pyopenssl in /usr/local/lib/python3.10/dist-packages (from medisearch_client) (23.2.0)\n",
            "Requirement already satisfied: ndg-httpsclient in /usr/local/lib/python3.10/dist-packages (from medisearch_client) (0.5.1)\n",
            "Requirement already satisfied: cryptography!=40.0.0,!=40.0.1,<42,>=38.0.0 in /usr/local/lib/python3.10/dist-packages (from pyopenssl->medisearch_client) (41.0.3)\n",
            "Requirement already satisfied: cffi>=1.12 in /usr/local/lib/python3.10/dist-packages (from cryptography!=40.0.0,!=40.0.1,<42,>=38.0.0->pyopenssl->medisearch_client) (1.15.1)\n",
            "Requirement already satisfied: pycparser in /usr/local/lib/python3.10/dist-packages (from cffi>=1.12->cryptography!=40.0.0,!=40.0.1,<42,>=38.0.0->pyopenssl->medisearch_client) (2.21)\n"
          ]
        }
      ],
      "source": [
        "!pip install medisearch_client\n",
        "\n",
        "import json\n",
        "import uuid\n",
        "\n",
        "from medisearch_client import MediSearchClient"
      ]
    },
    {
      "cell_type": "code",
      "source": [
        "#@title Set constants\n",
        "\n",
        "api_key = \"gx4XXBhE7Zrga682gmEm\"\n",
        "conversation_id = str(uuid.uuid4())\n",
        "client = MediSearchClient(api_key=api_key)"
      ],
      "metadata": {
        "id": "pShrIOTS7bcB"
      },
      "execution_count": null,
      "outputs": []
    },
    {
      "cell_type": "code",
      "source": [
        "#@title Make a search query\n",
        "query = \"Does depression increase the chances of heart attack?\"\n",
        "responses = client.send_user_message(conversation=[query],\n",
        "                                     conversation_id=conversation_id,\n",
        "                                     language=\"English\",\n",
        "                                     should_stream_response=True)\n",
        "\n",
        "for response in responses:\n",
        "  if response[\"event\"] == \"llm_response\":\n",
        "    text_response = response[\"text\"]\n",
        "    print(text_response)"
      ],
      "metadata": {
        "colab": {
          "base_uri": "https://localhost:8080/"
        },
        "id": "SF0dWmrk7Vir",
        "outputId": "72f8f5d8-5f20-483e-9e99-88ab0ba63981"
      },
      "execution_count": null,
      "outputs": [
        {
          "output_type": "stream",
          "name": "stdout",
          "text": [
            "Yes\n",
            "Yes,\n",
            "Yes, depression\n",
            "Yes, depression can\n",
            "Yes, depression can increase\n",
            "Yes, depression can increase the\n",
            "Yes, depression can increase the chances\n",
            "Yes, depression can increase the chances of\n",
            "Yes, depression can increase the chances of heart\n",
            "Yes, depression can increase the chances of heart disease\n",
            "Yes, depression can increase the chances of heart disease.\n",
            "Yes, depression can increase the chances of heart disease. Research\n",
            "Yes, depression can increase the chances of heart disease. Research has\n",
            "Yes, depression can increase the chances of heart disease. Research has shown\n",
            "Yes, depression can increase the chances of heart disease. Research has shown that\n",
            "Yes, depression can increase the chances of heart disease. Research has shown that depression\n",
            "Yes, depression can increase the chances of heart disease. Research has shown that depression is\n",
            "Yes, depression can increase the chances of heart disease. Research has shown that depression is a\n",
            "Yes, depression can increase the chances of heart disease. Research has shown that depression is a risk\n",
            "Yes, depression can increase the chances of heart disease. Research has shown that depression is a risk factor\n",
            "Yes, depression can increase the chances of heart disease. Research has shown that depression is a risk factor for\n",
            "Yes, depression can increase the chances of heart disease. Research has shown that depression is a risk factor for heart\n",
            "Yes, depression can increase the chances of heart disease. Research has shown that depression is a risk factor for heart diseases\n",
            "Yes, depression can increase the chances of heart disease. Research has shown that depression is a risk factor for heart diseases,\n",
            "Yes, depression can increase the chances of heart disease. Research has shown that depression is a risk factor for heart diseases, including\n",
            "Yes, depression can increase the chances of heart disease. Research has shown that depression is a risk factor for heart diseases, including coronary\n",
            "Yes, depression can increase the chances of heart disease. Research has shown that depression is a risk factor for heart diseases, including coronary artery\n",
            "Yes, depression can increase the chances of heart disease. Research has shown that depression is a risk factor for heart diseases, including coronary artery disease\n",
            "Yes, depression can increase the chances of heart disease. Research has shown that depression is a risk factor for heart diseases, including coronary artery disease (\n",
            "Yes, depression can increase the chances of heart disease. Research has shown that depression is a risk factor for heart diseases, including coronary artery disease (CAD\n",
            "Yes, depression can increase the chances of heart disease. Research has shown that depression is a risk factor for heart diseases, including coronary artery disease (CAD).\n",
            "Yes, depression can increase the chances of heart disease. Research has shown that depression is a risk factor for heart diseases, including coronary artery disease (CAD). It\n",
            "Yes, depression can increase the chances of heart disease. Research has shown that depression is a risk factor for heart diseases, including coronary artery disease (CAD). It has\n",
            "Yes, depression can increase the chances of heart disease. Research has shown that depression is a risk factor for heart diseases, including coronary artery disease (CAD). It has been\n",
            "Yes, depression can increase the chances of heart disease. Research has shown that depression is a risk factor for heart diseases, including coronary artery disease (CAD). It has been associated\n",
            "Yes, depression can increase the chances of heart disease. Research has shown that depression is a risk factor for heart diseases, including coronary artery disease (CAD). It has been associated with\n",
            "Yes, depression can increase the chances of heart disease. Research has shown that depression is a risk factor for heart diseases, including coronary artery disease (CAD). It has been associated with higher\n",
            "Yes, depression can increase the chances of heart disease. Research has shown that depression is a risk factor for heart diseases, including coronary artery disease (CAD). It has been associated with higher mortality\n",
            "Yes, depression can increase the chances of heart disease. Research has shown that depression is a risk factor for heart diseases, including coronary artery disease (CAD). It has been associated with higher mortality after\n",
            "Yes, depression can increase the chances of heart disease. Research has shown that depression is a risk factor for heart diseases, including coronary artery disease (CAD). It has been associated with higher mortality after myocard\n",
            "Yes, depression can increase the chances of heart disease. Research has shown that depression is a risk factor for heart diseases, including coronary artery disease (CAD). It has been associated with higher mortality after myocardial\n",
            "Yes, depression can increase the chances of heart disease. Research has shown that depression is a risk factor for heart diseases, including coronary artery disease (CAD). It has been associated with higher mortality after myocardial inf\n",
            "Yes, depression can increase the chances of heart disease. Research has shown that depression is a risk factor for heart diseases, including coronary artery disease (CAD). It has been associated with higher mortality after myocardial infar\n",
            "Yes, depression can increase the chances of heart disease. Research has shown that depression is a risk factor for heart diseases, including coronary artery disease (CAD). It has been associated with higher mortality after myocardial infarction\n",
            "Yes, depression can increase the chances of heart disease. Research has shown that depression is a risk factor for heart diseases, including coronary artery disease (CAD). It has been associated with higher mortality after myocardial infarction,\n",
            "Yes, depression can increase the chances of heart disease. Research has shown that depression is a risk factor for heart diseases, including coronary artery disease (CAD). It has been associated with higher mortality after myocardial infarction, unstable\n",
            "Yes, depression can increase the chances of heart disease. Research has shown that depression is a risk factor for heart diseases, including coronary artery disease (CAD). It has been associated with higher mortality after myocardial infarction, unstable ang\n",
            "Yes, depression can increase the chances of heart disease. Research has shown that depression is a risk factor for heart diseases, including coronary artery disease (CAD). It has been associated with higher mortality after myocardial infarction, unstable angina\n",
            "Yes, depression can increase the chances of heart disease. Research has shown that depression is a risk factor for heart diseases, including coronary artery disease (CAD). It has been associated with higher mortality after myocardial infarction, unstable angina,\n",
            "Yes, depression can increase the chances of heart disease. Research has shown that depression is a risk factor for heart diseases, including coronary artery disease (CAD). It has been associated with higher mortality after myocardial infarction, unstable angina, or\n",
            "Yes, depression can increase the chances of heart disease. Research has shown that depression is a risk factor for heart diseases, including coronary artery disease (CAD). It has been associated with higher mortality after myocardial infarction, unstable angina, or coronary\n",
            "Yes, depression can increase the chances of heart disease. Research has shown that depression is a risk factor for heart diseases, including coronary artery disease (CAD). It has been associated with higher mortality after myocardial infarction, unstable angina, or coronary artery\n",
            "Yes, depression can increase the chances of heart disease. Research has shown that depression is a risk factor for heart diseases, including coronary artery disease (CAD). It has been associated with higher mortality after myocardial infarction, unstable angina, or coronary artery bypass\n",
            "Yes, depression can increase the chances of heart disease. Research has shown that depression is a risk factor for heart diseases, including coronary artery disease (CAD). It has been associated with higher mortality after myocardial infarction, unstable angina, or coronary artery bypass graft\n",
            "Yes, depression can increase the chances of heart disease. Research has shown that depression is a risk factor for heart diseases, including coronary artery disease (CAD). It has been associated with higher mortality after myocardial infarction, unstable angina, or coronary artery bypass grafting\n",
            "Yes, depression can increase the chances of heart disease. Research has shown that depression is a risk factor for heart diseases, including coronary artery disease (CAD). It has been associated with higher mortality after myocardial infarction, unstable angina, or coronary artery bypass grafting,\n",
            "Yes, depression can increase the chances of heart disease. Research has shown that depression is a risk factor for heart diseases, including coronary artery disease (CAD). It has been associated with higher mortality after myocardial infarction, unstable angina, or coronary artery bypass grafting, and\n",
            "Yes, depression can increase the chances of heart disease. Research has shown that depression is a risk factor for heart diseases, including coronary artery disease (CAD). It has been associated with higher mortality after myocardial infarction, unstable angina, or coronary artery bypass grafting, and in\n",
            "Yes, depression can increase the chances of heart disease. Research has shown that depression is a risk factor for heart diseases, including coronary artery disease (CAD). It has been associated with higher mortality after myocardial infarction, unstable angina, or coronary artery bypass grafting, and in patients\n",
            "Yes, depression can increase the chances of heart disease. Research has shown that depression is a risk factor for heart diseases, including coronary artery disease (CAD). It has been associated with higher mortality after myocardial infarction, unstable angina, or coronary artery bypass grafting, and in patients with\n",
            "Yes, depression can increase the chances of heart disease. Research has shown that depression is a risk factor for heart diseases, including coronary artery disease (CAD). It has been associated with higher mortality after myocardial infarction, unstable angina, or coronary artery bypass grafting, and in patients with stable\n",
            "Yes, depression can increase the chances of heart disease. Research has shown that depression is a risk factor for heart diseases, including coronary artery disease (CAD). It has been associated with higher mortality after myocardial infarction, unstable angina, or coronary artery bypass grafting, and in patients with stable CAD\n",
            "Yes, depression can increase the chances of heart disease. Research has shown that depression is a risk factor for heart diseases, including coronary artery disease (CAD). It has been associated with higher mortality after myocardial infarction, unstable angina, or coronary artery bypass grafting, and in patients with stable CAD.\n",
            "Yes, depression can increase the chances of heart disease. Research has shown that depression is a risk factor for heart diseases, including coronary artery disease (CAD). It has been associated with higher mortality after myocardial infarction, unstable angina, or coronary artery bypass grafting, and in patients with stable CAD. Depression\n",
            "Yes, depression can increase the chances of heart disease. Research has shown that depression is a risk factor for heart diseases, including coronary artery disease (CAD). It has been associated with higher mortality after myocardial infarction, unstable angina, or coronary artery bypass grafting, and in patients with stable CAD. Depression can\n",
            "Yes, depression can increase the chances of heart disease. Research has shown that depression is a risk factor for heart diseases, including coronary artery disease (CAD). It has been associated with higher mortality after myocardial infarction, unstable angina, or coronary artery bypass grafting, and in patients with stable CAD. Depression can also\n",
            "Yes, depression can increase the chances of heart disease. Research has shown that depression is a risk factor for heart diseases, including coronary artery disease (CAD). It has been associated with higher mortality after myocardial infarction, unstable angina, or coronary artery bypass grafting, and in patients with stable CAD. Depression can also increase\n",
            "Yes, depression can increase the chances of heart disease. Research has shown that depression is a risk factor for heart diseases, including coronary artery disease (CAD). It has been associated with higher mortality after myocardial infarction, unstable angina, or coronary artery bypass grafting, and in patients with stable CAD. Depression can also increase mortality\n",
            "Yes, depression can increase the chances of heart disease. Research has shown that depression is a risk factor for heart diseases, including coronary artery disease (CAD). It has been associated with higher mortality after myocardial infarction, unstable angina, or coronary artery bypass grafting, and in patients with stable CAD. Depression can also increase mortality and\n",
            "Yes, depression can increase the chances of heart disease. Research has shown that depression is a risk factor for heart diseases, including coronary artery disease (CAD). It has been associated with higher mortality after myocardial infarction, unstable angina, or coronary artery bypass grafting, and in patients with stable CAD. Depression can also increase mortality and morb\n",
            "Yes, depression can increase the chances of heart disease. Research has shown that depression is a risk factor for heart diseases, including coronary artery disease (CAD). It has been associated with higher mortality after myocardial infarction, unstable angina, or coronary artery bypass grafting, and in patients with stable CAD. Depression can also increase mortality and morbidity\n",
            "Yes, depression can increase the chances of heart disease. Research has shown that depression is a risk factor for heart diseases, including coronary artery disease (CAD). It has been associated with higher mortality after myocardial infarction, unstable angina, or coronary artery bypass grafting, and in patients with stable CAD. Depression can also increase mortality and morbidity in\n",
            "Yes, depression can increase the chances of heart disease. Research has shown that depression is a risk factor for heart diseases, including coronary artery disease (CAD). It has been associated with higher mortality after myocardial infarction, unstable angina, or coronary artery bypass grafting, and in patients with stable CAD. Depression can also increase mortality and morbidity in patients\n",
            "Yes, depression can increase the chances of heart disease. Research has shown that depression is a risk factor for heart diseases, including coronary artery disease (CAD). It has been associated with higher mortality after myocardial infarction, unstable angina, or coronary artery bypass grafting, and in patients with stable CAD. Depression can also increase mortality and morbidity in patients with\n",
            "Yes, depression can increase the chances of heart disease. Research has shown that depression is a risk factor for heart diseases, including coronary artery disease (CAD). It has been associated with higher mortality after myocardial infarction, unstable angina, or coronary artery bypass grafting, and in patients with stable CAD. Depression can also increase mortality and morbidity in patients with heart\n",
            "Yes, depression can increase the chances of heart disease. Research has shown that depression is a risk factor for heart diseases, including coronary artery disease (CAD). It has been associated with higher mortality after myocardial infarction, unstable angina, or coronary artery bypass grafting, and in patients with stable CAD. Depression can also increase mortality and morbidity in patients with heart failure\n",
            "Yes, depression can increase the chances of heart disease. Research has shown that depression is a risk factor for heart diseases, including coronary artery disease (CAD). It has been associated with higher mortality after myocardial infarction, unstable angina, or coronary artery bypass grafting, and in patients with stable CAD. Depression can also increase mortality and morbidity in patients with heart failure,\n",
            "Yes, depression can increase the chances of heart disease. Research has shown that depression is a risk factor for heart diseases, including coronary artery disease (CAD). It has been associated with higher mortality after myocardial infarction, unstable angina, or coronary artery bypass grafting, and in patients with stable CAD. Depression can also increase mortality and morbidity in patients with heart failure, regardless\n",
            "Yes, depression can increase the chances of heart disease. Research has shown that depression is a risk factor for heart diseases, including coronary artery disease (CAD). It has been associated with higher mortality after myocardial infarction, unstable angina, or coronary artery bypass grafting, and in patients with stable CAD. Depression can also increase mortality and morbidity in patients with heart failure, regardless of\n",
            "Yes, depression can increase the chances of heart disease. Research has shown that depression is a risk factor for heart diseases, including coronary artery disease (CAD). It has been associated with higher mortality after myocardial infarction, unstable angina, or coronary artery bypass grafting, and in patients with stable CAD. Depression can also increase mortality and morbidity in patients with heart failure, regardless of its\n",
            "Yes, depression can increase the chances of heart disease. Research has shown that depression is a risk factor for heart diseases, including coronary artery disease (CAD). It has been associated with higher mortality after myocardial infarction, unstable angina, or coronary artery bypass grafting, and in patients with stable CAD. Depression can also increase mortality and morbidity in patients with heart failure, regardless of its cause\n",
            "Yes, depression can increase the chances of heart disease. Research has shown that depression is a risk factor for heart diseases, including coronary artery disease (CAD). It has been associated with higher mortality after myocardial infarction, unstable angina, or coronary artery bypass grafting, and in patients with stable CAD. Depression can also increase mortality and morbidity in patients with heart failure, regardless of its cause [2, 1].\n"
          ]
        }
      ]
    },
    {
      "cell_type": "code",
      "source": [
        "#@title Ask a followup question\n",
        "follow_up_query = \"By what percentage does depression increase risk of heart disease?\"\n",
        "responses = client.send_user_message(conversation=[query,\n",
        "                                                   text_response,\n",
        "                                                   follow_up_query],\n",
        "                                     conversation_id=conversation_id,\n",
        "                                     language=\"English\",\n",
        "                                     should_stream_response=False)\n",
        "\n",
        "responses"
      ],
      "metadata": {
        "id": "F4rmgjRK82mg",
        "colab": {
          "base_uri": "https://localhost:8080/"
        },
        "outputId": "259622a1-88cb-469e-fd34-91e2af3a0ffe"
      },
      "execution_count": null,
      "outputs": [
        {
          "output_type": "execute_result",
          "data": {
            "text/plain": [
              "[{'event': 'llm_response',\n",
              "  'id': '17083c3f-f8c0-40ae-a518-bbce02231bd7',\n",
              "  'text': 'Depression can increase the risk of developing heart disease by approximately 1.5 times, according to a study that evaluated the health data of over 130,000 people in the United Kingdom [1]. Another study found that the risk of developing coronary heart disease (CHD) was strongest for those aged under 40, with a standardized incidence ratio (SIR) of 2.17 [2].'},\n",
              " {'event': 'articles',\n",
              "  'id': '17083c3f-f8c0-40ae-a518-bbce02231bd7',\n",
              "  'articles': [{'title': 'Depression: Condition Increases Risk for Diabetes, Hypertension',\n",
              "    'url': 'https://www.healthline.com/health-news/people-with-depression-face-1-5-times-risk-for-29-health-conditions',\n",
              "    'authors': ['Julia Ries'],\n",
              "    'year': '2023'},\n",
              "   {'title': 'Depression as a predictor of hospitalization due to coronary heart disease.',\n",
              "    'url': 'https://pubmed.ncbi.nlm.nih.gov/16376706/',\n",
              "    'authors': ['Sundquist', 'Li', 'Johansson', 'Sundquist'],\n",
              "    'year': '2006'}]}]"
            ]
          },
          "metadata": {},
          "execution_count": 39
        }
      ]
    }
  ]
}